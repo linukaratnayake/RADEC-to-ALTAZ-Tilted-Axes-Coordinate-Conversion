{
  "nbformat": 4,
  "nbformat_minor": 0,
  "metadata": {
    "colab": {
      "provenance": []
    },
    "kernelspec": {
      "name": "python3",
      "display_name": "Python 3"
    },
    "language_info": {
      "name": "python"
    }
  },
  "cells": [
    {
      "cell_type": "code",
      "source": [
        "from math import pi, sin, cos, tan, sqrt\n",
        "import numpy as np"
      ],
      "metadata": {
        "id": "q0kd1HefPAHY"
      },
      "execution_count": null,
      "outputs": []
    },
    {
      "cell_type": "code",
      "source": [
        "# RA-DEC values of Sirius, for axample.\n",
        "\n",
        "ra = 6.75\n",
        "dec = -(16 + 43 / 60)"
      ],
      "metadata": {
        "id": "aOhR0JyLj_bG"
      },
      "execution_count": null,
      "outputs": []
    },
    {
      "cell_type": "code",
      "execution_count": null,
      "metadata": {
        "colab": {
          "base_uri": "https://localhost:8080/"
        },
        "id": "hb8_AsbYN6Fy",
        "outputId": "1112a2c7-e8e8-4af2-b907-bfeb94fbe18d"
      },
      "outputs": [
        {
          "output_type": "stream",
          "name": "stdout",
          "text": [
            "Azimuth:\t  6.75\n",
            "Altitude:\t  -16.716666666666665\n"
          ]
        }
      ],
      "source": [
        "# ALT and AZ values of Sirius, for example.\n",
        "\n",
        "az = ra # THESE SHOULD BE CONVERTED TO ALT-AZ.\n",
        "alt = dec  # THESE SHOULD BE CONVERTED TO ALT-AZ.\n",
        "\n",
        "# Define r to be an arbitrary value, which is the distance to\n",
        "# the celestial objects, that are assumed to be on the inner surface of a sphere.\n",
        "r = 10 ** 0\n",
        "\n",
        "print(\"Azimuth:\\t \", az)\n",
        "print(\"Altitude:\\t \", alt)"
      ]
    },
    {
      "cell_type": "code",
      "source": [
        "# Convert ALT, and AZ from degrees to radians.\n",
        "\n",
        "az = np.radians(az)\n",
        "alt = np.radians(alt)\n",
        "\n",
        "print(az)\n",
        "print(alt)"
      ],
      "metadata": {
        "colab": {
          "base_uri": "https://localhost:8080/"
        },
        "id": "pu8UA453a8J9",
        "outputId": "de6d3332-f4f3-4c83-a09f-6c723f8949db"
      },
      "execution_count": null,
      "outputs": [
        {
          "output_type": "stream",
          "name": "stdout",
          "text": [
            "0.11780972450961724\n",
            "-0.29176087329171874\n"
          ]
        }
      ]
    },
    {
      "cell_type": "code",
      "source": [
        "# Value correction for the used Cartesian coordinate system\n",
        "\n",
        "theta = 2 * pi - az\n",
        "phi = pi / 2 - alt\n",
        "rho = r\n",
        "\n",
        "print(\"Theta  \\t\\tRadians: \", theta, \"\\tDegrees: \", np.degrees(theta))\n",
        "print(\"Phi  \\t\\tRadians: \", phi, \"\\tDegrees: \", np.degrees(phi))\n",
        "print(\"Rho\\t\\tunits: \", rho)"
      ],
      "metadata": {
        "colab": {
          "base_uri": "https://localhost:8080/"
        },
        "id": "RHyn_k1BOw2u",
        "outputId": "a6ed47b5-4d33-45e8-8da8-e6d79919e2df"
      },
      "execution_count": null,
      "outputs": [
        {
          "output_type": "stream",
          "name": "stdout",
          "text": [
            "Theta  \t\tRadians:  6.165375582669969 \tDegrees:  353.25\n",
            "Phi  \t\tRadians:  1.8625572000866153 \tDegrees:  106.71666666666667\n",
            "Rho\t\tunits:  1\n"
          ]
        }
      ]
    },
    {
      "cell_type": "code",
      "source": [
        "# Converting ALT-AZ coordinates to Cartesian coordinates, for easy manipulation\n",
        "\n",
        "x = rho * sin(phi) * cos(theta)\n",
        "y = rho * sin(phi) * sin(theta)\n",
        "z = rho * cos(phi)\n",
        "\n",
        "X = np.asarray((x, y, z)).reshape(-1, 1)\n",
        "print(X)"
      ],
      "metadata": {
        "id": "rpjXPDWeOZk8",
        "colab": {
          "base_uri": "https://localhost:8080/"
        },
        "outputId": "dd2489ff-4eb3-4961-8498-6675071a0ace"
      },
      "execution_count": null,
      "outputs": [
        {
          "output_type": "stream",
          "name": "stdout",
          "text": [
            "[[ 0.95110026]\n",
            " [-0.11257013]\n",
            " [-0.28763913]]\n"
          ]
        }
      ]
    },
    {
      "cell_type": "code",
      "source": [
        "# Define the tilted and rotated angles (in radians).\n",
        "# Example values are given.\n",
        "\n",
        "alpha = np.radians(-32.45)\n",
        "beta = np.radians(4.5)\n",
        "gamma = np.radians(-3.76)"
      ],
      "metadata": {
        "id": "ZCAI8WwUP7G3"
      },
      "execution_count": null,
      "outputs": []
    },
    {
      "cell_type": "code",
      "source": [
        "# Define the coefficients of the new coordinates x_, y_, and z_.\n",
        "\n",
        "r = 1 / sqrt((sin(gamma) ** 2 * sin(alpha) ** 2) + (sin(beta) ** 2 * cos(alpha) ** 2) +\n",
        " (sin(alpha) ** 2 * sin(beta) ** 2) + (sin(gamma) ** 2 * cos(alpha) ** 2) + 1)\n",
        "\n",
        "p = r * (sin(gamma) * sin(alpha) - sin(beta) * cos(alpha))\n",
        "\n",
        "q = r * (sin(alpha) * sin(beta) + sin(gamma) * cos(alpha))\n",
        "\n",
        "x_ = np.asarray([[cos(alpha)], [-sin(alpha)], [sin(beta)]])\n",
        "y_ = np.asarray([[sin(alpha)], [cos(alpha)], [-sin(gamma)]])\n",
        "z_ = np.asarray([[p], [q], [r]])"
      ],
      "metadata": {
        "id": "ikLG8UopQLgX"
      },
      "execution_count": null,
      "outputs": []
    },
    {
      "cell_type": "code",
      "source": [
        "# Defining the transformation matrix\n",
        "\n",
        "A = np.concatenate((x_, y_, z_), axis=1)\n",
        "print(A)"
      ],
      "metadata": {
        "colab": {
          "base_uri": "https://localhost:8080/"
        },
        "id": "cM4GZDxlSMga",
        "outputId": "ba96ae1e-84da-4956-ee0f-3b6cac8fdbe7"
      },
      "execution_count": null,
      "outputs": [
        {
          "output_type": "stream",
          "name": "stdout",
          "text": [
            "[[ 0.84386001 -0.53656341 -0.03086119]\n",
            " [ 0.53656341  0.84386001 -0.09693088]\n",
            " [ 0.0784591   0.06557729  0.99481254]]\n"
          ]
        }
      ]
    },
    {
      "cell_type": "code",
      "source": [
        "# Finding new coordinates\n",
        "\n",
        "transformed = np.matmul(np.linalg.inv(A), X)\n",
        "\n",
        "x_new = transformed[0][0]\n",
        "y_new = transformed[1][0]\n",
        "z_new = transformed[2][0]\n",
        "\n",
        "print(transformed)\n",
        "\n",
        "print(x_new, y_new, z_new)"
      ],
      "metadata": {
        "colab": {
          "base_uri": "https://localhost:8080/"
        },
        "id": "bg4xx-7SSbu8",
        "outputId": "51d96dab-2904-497f-c62e-ccdc02267c88"
      },
      "execution_count": null,
      "outputs": [
        {
          "output_type": "stream",
          "name": "stdout",
          "text": [
            "[[ 0.71842076]\n",
            " [-0.62518944]\n",
            " [-0.30458758]]\n",
            "0.7184207569218727 -0.6251894393952467 -0.3045875780495587\n"
          ]
        }
      ]
    },
    {
      "cell_type": "code",
      "source": [
        "# Converting new Cartesian coordinates to ALT, and AZ.\n",
        "\n",
        "theta_ = np.arctan2(y_new, x_new) # gives answer in the range -pi to pi\n",
        "if theta_ < 0: theta_ += 2 * pi # convert to 0 - 2pi range\n",
        "\n",
        "phi_ = np.arctan2(x_new, z_new * cos(theta_)) # gives answer in the range -pi to pi, this is correct.\n",
        "if phi_ < 0: phi_ += pi\n",
        "\n",
        "az_ = 2 * pi - theta_\n",
        "alt_ = pi / 2 - phi_\n",
        "\n",
        "print(\"theta_  \\tRadians: \", theta_, \"\\tDegrees: \", np.degrees(theta_))\n",
        "print(\"phi_  \\t\\tRadians: \", phi_, \"\\tDegrees: \", np.degrees(phi_))\n",
        "print(\"az_  \\t\\tRadians: \", az_, \"\\tDegrees: \", np.degrees(az_))\n",
        "print(\"alt_  \\t\\tRadians: \", alt_, \"\\tDegrees: \", np.degrees(alt_))"
      ],
      "metadata": {
        "colab": {
          "base_uri": "https://localhost:8080/"
        },
        "id": "yLbuKQ3VeG4H",
        "outputId": "57a8e693-43ae-4008-c07d-737712db8629"
      },
      "execution_count": null,
      "outputs": [
        {
          "output_type": "stream",
          "name": "stdout",
          "text": [
            "theta_  \tRadians:  5.567064765314443 \tDegrees:  318.96931532850573\n",
            "phi_  \t\tRadians:  1.8803395013462783 \tDegrees:  107.73551747887552\n",
            "az_  \t\tRadians:  0.7161205418651431 \tDegrees:  41.03068467149428\n",
            "alt_  \t\tRadians:  -0.3095431745513817 \tDegrees:  -17.735517478875522\n"
          ]
        }
      ]
    }
  ]
}